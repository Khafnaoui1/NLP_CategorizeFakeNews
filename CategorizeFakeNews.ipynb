{
 "cells": [
  {
   "cell_type": "code",
   "execution_count": 1,
   "id": "ea74325d",
   "metadata": {},
   "outputs": [],
   "source": [
    "\n",
    "import pandas as pd\n",
    "import matplotlib.pyplot as plt\n",
    "import seaborn as sns\n",
    "import spacy\n",
    "from spacy import displacy\n",
    "from spacy import tokenizer\n",
    "import re \n",
    "import nltk \n",
    "from nltk.tokenize import word_tokenize \n",
    "from nltk.stem import PorterStemmer, WordNetLemmatizer\n",
    "from nltk.corpus import stopwords\n",
    "from vaderSentiment.vaderSentiment import SentimentIntensityAnalyzer\n",
    "import gensim\n",
    "import gensim.corpora as corpora\n",
    "from gensim.models.coherencemodel import CoherenceModel\n",
    "from gensim.models import LsiModel, TfidfModel\n",
    "from sklearn.feature_extraction.text import TfidfVectorizer\n",
    "from sklearn.feature_extraction.text import CountVectorizer, TfidfVectorizer\n",
    "from sklearn.model_selection import train_test_split\n",
    "from sklearn.linear_model import LogisticRegression, SGDClassifier\n",
    "from sklearn.metrics import accuracy_score, classification_report"
   ]
  },
  {
   "cell_type": "code",
   "execution_count": 2,
   "id": "ebfd6654",
   "metadata": {},
   "outputs": [],
   "source": [
    "# set plot options\n",
    "plt.rcParams['figure.figsize'] = (12, 8)\n",
    "default_plot_color = \"#00bfbf\""
   ]
  },
  {
   "cell_type": "code",
   "execution_count": 3,
   "id": "eecfa9c8",
   "metadata": {},
   "outputs": [],
   "source": [
    "data = pd.read_csv('fake_news_data.csv')"
   ]
  },
  {
   "cell_type": "code",
   "execution_count": 4,
   "id": "32f979dd",
   "metadata": {},
   "outputs": [
    {
     "data": {
      "text/html": [
       "<div>\n",
       "<style scoped>\n",
       "    .dataframe tbody tr th:only-of-type {\n",
       "        vertical-align: middle;\n",
       "    }\n",
       "\n",
       "    .dataframe tbody tr th {\n",
       "        vertical-align: top;\n",
       "    }\n",
       "\n",
       "    .dataframe thead th {\n",
       "        text-align: right;\n",
       "    }\n",
       "</style>\n",
       "<table border=\"1\" class=\"dataframe\">\n",
       "  <thead>\n",
       "    <tr style=\"text-align: right;\">\n",
       "      <th></th>\n",
       "      <th>title</th>\n",
       "      <th>text</th>\n",
       "      <th>date</th>\n",
       "      <th>fake_or_factual</th>\n",
       "    </tr>\n",
       "  </thead>\n",
       "  <tbody>\n",
       "    <tr>\n",
       "      <th>0</th>\n",
       "      <td>HOLLYWEIRD LIB SUSAN SARANDON Compares Muslim ...</td>\n",
       "      <td>There are two small problems with your analogy...</td>\n",
       "      <td>Dec 30, 2015</td>\n",
       "      <td>Fake News</td>\n",
       "    </tr>\n",
       "    <tr>\n",
       "      <th>1</th>\n",
       "      <td>Elijah Cummings Called Trump Out To His Face ...</td>\n",
       "      <td>Buried in Trump s bonkers interview with New Y...</td>\n",
       "      <td>April 6, 2017</td>\n",
       "      <td>Fake News</td>\n",
       "    </tr>\n",
       "    <tr>\n",
       "      <th>2</th>\n",
       "      <td>Hillary Clinton Says Half Her Cabinet Will Be...</td>\n",
       "      <td>Women make up over 50 percent of this country,...</td>\n",
       "      <td>April 26, 2016</td>\n",
       "      <td>Fake News</td>\n",
       "    </tr>\n",
       "    <tr>\n",
       "      <th>3</th>\n",
       "      <td>Russian bombing of U.S.-backed forces being di...</td>\n",
       "      <td>WASHINGTON (Reuters) - U.S. Defense Secretary ...</td>\n",
       "      <td>September 18, 2017</td>\n",
       "      <td>Factual News</td>\n",
       "    </tr>\n",
       "    <tr>\n",
       "      <th>4</th>\n",
       "      <td>Britain says window to restore Northern Irelan...</td>\n",
       "      <td>BELFAST (Reuters) - Northern Ireland s politic...</td>\n",
       "      <td>September 4, 2017</td>\n",
       "      <td>Factual News</td>\n",
       "    </tr>\n",
       "  </tbody>\n",
       "</table>\n",
       "</div>"
      ],
      "text/plain": [
       "                                               title  \\\n",
       "0  HOLLYWEIRD LIB SUSAN SARANDON Compares Muslim ...   \n",
       "1   Elijah Cummings Called Trump Out To His Face ...   \n",
       "2   Hillary Clinton Says Half Her Cabinet Will Be...   \n",
       "3  Russian bombing of U.S.-backed forces being di...   \n",
       "4  Britain says window to restore Northern Irelan...   \n",
       "\n",
       "                                                text                 date  \\\n",
       "0  There are two small problems with your analogy...         Dec 30, 2015   \n",
       "1  Buried in Trump s bonkers interview with New Y...        April 6, 2017   \n",
       "2  Women make up over 50 percent of this country,...       April 26, 2016   \n",
       "3  WASHINGTON (Reuters) - U.S. Defense Secretary ...  September 18, 2017    \n",
       "4  BELFAST (Reuters) - Northern Ireland s politic...   September 4, 2017    \n",
       "\n",
       "  fake_or_factual  \n",
       "0       Fake News  \n",
       "1       Fake News  \n",
       "2       Fake News  \n",
       "3    Factual News  \n",
       "4    Factual News  "
      ]
     },
     "execution_count": 4,
     "metadata": {},
     "output_type": "execute_result"
    }
   ],
   "source": [
    "data.head()"
   ]
  },
  {
   "cell_type": "code",
   "execution_count": 5,
   "id": "8d8eaca7",
   "metadata": {},
   "outputs": [
    {
     "data": {
      "text/plain": [
       "Text(0.5, 1.0, 'Count of Article Classification')"
      ]
     },
     "execution_count": 5,
     "metadata": {},
     "output_type": "execute_result"
    },
    {
     "data": {
      "image/png": "[encoded data removed]",
      "text/plain": [
       "<Figure size 1200x800 with 1 Axes>"
      ]
     },
     "metadata": {},
     "output_type": "display_data"
    }
   ],
   "source": [
    "data['fake_or_factual'].value_counts().plot(kind='bar', color=default_plot_color)\n",
    "plt.title('Count of Article Classification')"
   ]
  },
  {
   "cell_type": "markdown",
   "id": "b3499d9e",
   "metadata": {},
   "source": [
    "# POS Tagging"
   ]
  },
  {
   "cell_type": "code",
   "execution_count": 6,
   "id": "3e38057e",
   "metadata": {},
   "outputs": [],
   "source": [
    "nlp = spacy.load(\"en_core_web_sm\")"
   ]
  },
  {
   "cell_type": "code",
   "execution_count": 7,
   "id": "92a758ad",
   "metadata": {},
   "outputs": [],
   "source": [
    "fake_news = data[data['fake_or_factual'] == 'Fake News']\n",
    "factual_news = data[data['fake_or_factual'] == 'Factual News']"
   ]
  },
  {
   "cell_type": "code",
   "execution_count": 8,
   "id": "c7ec9177",
   "metadata": {},
   "outputs": [],
   "source": [
    "fake_spacydocs = list(nlp.pipe(fake_news['text']))\n",
    "factual_spacydocs = list(nlp.pipe(factual_news['text']))"
   ]
  },
  {
   "cell_type": "code",
   "execution_count": 9,
   "id": "69250bc0",
   "metadata": {},
   "outputs": [],
   "source": [
    "def extract_token_tags(doc:spacy.tokens.doc.Doc):\n",
    "    return [(i.text, i.ent_type_, i.pos_) for i in doc]"
   ]
  },
  {
   "cell_type": "code",
   "execution_count": 10,
   "id": "10144afc",
   "metadata": {},
   "outputs": [],
   "source": [
    "fake_tagsdf = []\n",
    "columns = [\"token\",\"ner_tag\", \"pos_tag\"]"
   ]
  },
  {
   "cell_type": "code",
   "execution_count": 11,
   "id": "8e23e96c",
   "metadata": {},
   "outputs": [],
   "source": [
    "for ix, doc in enumerate(fake_spacydocs):\n",
    "    tags = extract_token_tags(doc)\n",
    "    tags = pd.DataFrame(tags)\n",
    "    tags.columns = columns\n",
    "    fake_tagsdf.append(tags)"
   ]
  },
  {
   "cell_type": "code",
   "execution_count": 12,
   "id": "d7c9987f",
   "metadata": {},
   "outputs": [],
   "source": [
    "fake_tagsdf = pd.concat(fake_tagsdf)"
   ]
  },
  {
   "cell_type": "code",
   "execution_count": 13,
   "id": "351a44ad",
   "metadata": {},
   "outputs": [
    {
     "data": {
      "text/html": [
       "<div>\n",
       "<style scoped>\n",
       "    .dataframe tbody tr th:only-of-type {\n",
       "        vertical-align: middle;\n",
       "    }\n",
       "\n",
       "    .dataframe tbody tr th {\n",
       "        vertical-align: top;\n",
       "    }\n",
       "\n",
       "    .dataframe thead th {\n",
       "        text-align: right;\n",
       "    }\n",
       "</style>\n",
       "<table border=\"1\" class=\"dataframe\">\n",
       "  <thead>\n",
       "    <tr style=\"text-align: right;\">\n",
       "      <th></th>\n",
       "      <th>token</th>\n",
       "      <th>ner_tag</th>\n",
       "      <th>pos_tag</th>\n",
       "    </tr>\n",
       "  </thead>\n",
       "  <tbody>\n",
       "    <tr>\n",
       "      <th>0</th>\n",
       "      <td>There</td>\n",
       "      <td></td>\n",
       "      <td>PRON</td>\n",
       "    </tr>\n",
       "    <tr>\n",
       "      <th>1</th>\n",
       "      <td>are</td>\n",
       "      <td></td>\n",
       "      <td>VERB</td>\n",
       "    </tr>\n",
       "    <tr>\n",
       "      <th>2</th>\n",
       "      <td>two</td>\n",
       "      <td>CARDINAL</td>\n",
       "      <td>NUM</td>\n",
       "    </tr>\n",
       "    <tr>\n",
       "      <th>3</th>\n",
       "      <td>small</td>\n",
       "      <td></td>\n",
       "      <td>ADJ</td>\n",
       "    </tr>\n",
       "    <tr>\n",
       "      <th>4</th>\n",
       "      <td>problems</td>\n",
       "      <td></td>\n",
       "      <td>NOUN</td>\n",
       "    </tr>\n",
       "  </tbody>\n",
       "</table>\n",
       "</div>"
      ],
      "text/plain": [
       "      token   ner_tag pos_tag\n",
       "0     There              PRON\n",
       "1       are              VERB\n",
       "2       two  CARDINAL     NUM\n",
       "3     small               ADJ\n",
       "4  problems              NOUN"
      ]
     },
     "execution_count": 13,
     "metadata": {},
     "output_type": "execute_result"
    }
   ],
   "source": [
    "fake_tagsdf.head()"
   ]
  },
  {
   "cell_type": "code",
   "execution_count": 14,
   "id": "6cf8aef9",
   "metadata": {},
   "outputs": [],
   "source": [
    "fact_tagsdf = []\n",
    "\n",
    "for ix, doc in enumerate(factual_spacydocs):\n",
    "    tags = extract_token_tags(doc)\n",
    "    tags = pd.DataFrame(tags)\n",
    "    tags.columns = columns\n",
    "    fact_tagsdf.append(tags)"
   ]
  },
  {
   "cell_type": "code",
   "execution_count": 15,
   "id": "1993afc3",
   "metadata": {},
   "outputs": [],
   "source": [
    "fact_tagsdf = pd.concat(fact_tagsdf)"
   ]
  },
  {
   "cell_type": "code",
   "execution_count": 16,
   "id": "2e53feb8",
   "metadata": {},
   "outputs": [
    {
     "data": {
      "text/html": [
       "<div>\n",
       "<style scoped>\n",
       "    .dataframe tbody tr th:only-of-type {\n",
       "        vertical-align: middle;\n",
       "    }\n",
       "\n",
       "    .dataframe tbody tr th {\n",
       "        vertical-align: top;\n",
       "    }\n",
       "\n",
       "    .dataframe thead th {\n",
       "        text-align: right;\n",
       "    }\n",
       "</style>\n",
       "<table border=\"1\" class=\"dataframe\">\n",
       "  <thead>\n",
       "    <tr style=\"text-align: right;\">\n",
       "      <th></th>\n",
       "      <th>token</th>\n",
       "      <th>pos_tag</th>\n",
       "      <th>counts</th>\n",
       "    </tr>\n",
       "  </thead>\n",
       "  <tbody>\n",
       "    <tr>\n",
       "      <th>29</th>\n",
       "      <td>,</td>\n",
       "      <td>PUNCT</td>\n",
       "      <td>1908</td>\n",
       "    </tr>\n",
       "    <tr>\n",
       "      <th>7451</th>\n",
       "      <td>the</td>\n",
       "      <td>DET</td>\n",
       "      <td>1834</td>\n",
       "    </tr>\n",
       "    <tr>\n",
       "      <th>41</th>\n",
       "      <td>.</td>\n",
       "      <td>PUNCT</td>\n",
       "      <td>1530</td>\n",
       "    </tr>\n",
       "    <tr>\n",
       "      <th>5766</th>\n",
       "      <td>of</td>\n",
       "      <td>ADP</td>\n",
       "      <td>922</td>\n",
       "    </tr>\n",
       "    <tr>\n",
       "      <th>2665</th>\n",
       "      <td>and</td>\n",
       "      <td>CCONJ</td>\n",
       "      <td>875</td>\n",
       "    </tr>\n",
       "    <tr>\n",
       "      <th>2449</th>\n",
       "      <td>a</td>\n",
       "      <td>DET</td>\n",
       "      <td>805</td>\n",
       "    </tr>\n",
       "    <tr>\n",
       "      <th>0</th>\n",
       "      <td></td>\n",
       "      <td>SPACE</td>\n",
       "      <td>795</td>\n",
       "    </tr>\n",
       "    <tr>\n",
       "      <th>7528</th>\n",
       "      <td>to</td>\n",
       "      <td>PART</td>\n",
       "      <td>767</td>\n",
       "    </tr>\n",
       "    <tr>\n",
       "      <th>4921</th>\n",
       "      <td>in</td>\n",
       "      <td>ADP</td>\n",
       "      <td>668</td>\n",
       "    </tr>\n",
       "    <tr>\n",
       "      <th>5099</th>\n",
       "      <td>is</td>\n",
       "      <td>AUX</td>\n",
       "      <td>419</td>\n",
       "    </tr>\n",
       "  </tbody>\n",
       "</table>\n",
       "</div>"
      ],
      "text/plain": [
       "     token pos_tag  counts\n",
       "29       ,   PUNCT    1908\n",
       "7451   the     DET    1834\n",
       "41       .   PUNCT    1530\n",
       "5766    of     ADP     922\n",
       "2665   and   CCONJ     875\n",
       "2449     a     DET     805\n",
       "0            SPACE     795\n",
       "7528    to    PART     767\n",
       "4921    in     ADP     668\n",
       "5099    is     AUX     419"
      ]
     },
     "execution_count": 16,
     "metadata": {},
     "output_type": "execute_result"
    }
   ],
   "source": [
    "pos_counts_fake = fake_tagsdf.groupby(['token','pos_tag']).size().reset_index(name=\"counts\").sort_values(by='counts', ascending=False)\n",
    "pos_counts_fake.head(10)"
   ]
  },
  {
   "cell_type": "code",
   "execution_count": 17,
   "id": "15cf2c5e",
   "metadata": {},
   "outputs": [
    {
     "data": {
      "text/html": [
       "<div>\n",
       "<style scoped>\n",
       "    .dataframe tbody tr th:only-of-type {\n",
       "        vertical-align: middle;\n",
       "    }\n",
       "\n",
       "    .dataframe tbody tr th {\n",
       "        vertical-align: top;\n",
       "    }\n",
       "\n",
       "    .dataframe thead th {\n",
       "        text-align: right;\n",
       "    }\n",
       "</style>\n",
       "<table border=\"1\" class=\"dataframe\">\n",
       "  <thead>\n",
       "    <tr style=\"text-align: right;\">\n",
       "      <th></th>\n",
       "      <th>token</th>\n",
       "      <th>pos_tag</th>\n",
       "      <th>counts</th>\n",
       "    </tr>\n",
       "  </thead>\n",
       "  <tbody>\n",
       "    <tr>\n",
       "      <th>6145</th>\n",
       "      <td>the</td>\n",
       "      <td>DET</td>\n",
       "      <td>1903</td>\n",
       "    </tr>\n",
       "    <tr>\n",
       "      <th>14</th>\n",
       "      <td>,</td>\n",
       "      <td>PUNCT</td>\n",
       "      <td>1698</td>\n",
       "    </tr>\n",
       "    <tr>\n",
       "      <th>21</th>\n",
       "      <td>.</td>\n",
       "      <td>PUNCT</td>\n",
       "      <td>1382</td>\n",
       "    </tr>\n",
       "    <tr>\n",
       "      <th>4716</th>\n",
       "      <td>of</td>\n",
       "      <td>ADP</td>\n",
       "      <td>884</td>\n",
       "    </tr>\n",
       "    <tr>\n",
       "      <th>1898</th>\n",
       "      <td>a</td>\n",
       "      <td>DET</td>\n",
       "      <td>789</td>\n",
       "    </tr>\n",
       "    <tr>\n",
       "      <th>2093</th>\n",
       "      <td>and</td>\n",
       "      <td>CCONJ</td>\n",
       "      <td>757</td>\n",
       "    </tr>\n",
       "    <tr>\n",
       "      <th>4005</th>\n",
       "      <td>in</td>\n",
       "      <td>ADP</td>\n",
       "      <td>671</td>\n",
       "    </tr>\n",
       "    <tr>\n",
       "      <th>6205</th>\n",
       "      <td>to</td>\n",
       "      <td>PART</td>\n",
       "      <td>660</td>\n",
       "    </tr>\n",
       "    <tr>\n",
       "      <th>4743</th>\n",
       "      <td>on</td>\n",
       "      <td>ADP</td>\n",
       "      <td>482</td>\n",
       "    </tr>\n",
       "    <tr>\n",
       "      <th>5567</th>\n",
       "      <td>said</td>\n",
       "      <td>VERB</td>\n",
       "      <td>451</td>\n",
       "    </tr>\n",
       "  </tbody>\n",
       "</table>\n",
       "</div>"
      ],
      "text/plain": [
       "     token pos_tag  counts\n",
       "6145   the     DET    1903\n",
       "14       ,   PUNCT    1698\n",
       "21       .   PUNCT    1382\n",
       "4716    of     ADP     884\n",
       "1898     a     DET     789\n",
       "2093   and   CCONJ     757\n",
       "4005    in     ADP     671\n",
       "6205    to    PART     660\n",
       "4743    on     ADP     482\n",
       "5567  said    VERB     451"
      ]
     },
     "execution_count": 17,
     "metadata": {},
     "output_type": "execute_result"
    }
   ],
   "source": [
    "pos_counts_fact = fact_tagsdf.groupby(['token','pos_tag']).size().reset_index(name=\"counts\").sort_values(by='counts', ascending=False)\n",
    "pos_counts_fact.head(10)"
   ]
  },
  {
   "cell_type": "code",
   "execution_count": 18,
   "id": "ce415b43",
   "metadata": {},
   "outputs": [
    {
     "data": {
      "text/plain": [
       "pos_tag\n",
       "NOUN     2586\n",
       "VERB     1817\n",
       "PROPN    1672\n",
       "ADJ       882\n",
       "ADV       413\n",
       "NUM       221\n",
       "PRON       96\n",
       "ADP        89\n",
       "AUX        62\n",
       "SCONJ      51\n",
       "Name: token, dtype: int64"
      ]
     },
     "execution_count": 18,
     "metadata": {},
     "output_type": "execute_result"
    }
   ],
   "source": [
    "pos_counts_fake.groupby('pos_tag')['token'].count().sort_values(ascending=False).head(10)"
   ]
  },
  {
   "cell_type": "code",
   "execution_count": 19,
   "id": "cb1b02f2",
   "metadata": {},
   "outputs": [
    {
     "data": {
      "text/plain": [
       "pos_tag\n",
       "NOUN     2179\n",
       "VERB     1539\n",
       "PROPN    1379\n",
       "ADJ       747\n",
       "ADV       263\n",
       "NUM       205\n",
       "PRON       79\n",
       "ADP        70\n",
       "AUX        43\n",
       "SCONJ      42\n",
       "Name: token, dtype: int64"
      ]
     },
     "execution_count": 19,
     "metadata": {},
     "output_type": "execute_result"
    }
   ],
   "source": [
    "pos_counts_fact.groupby('pos_tag')['token'].count().sort_values(ascending=False).head(10)"
   ]
  },
  {
   "cell_type": "code",
   "execution_count": 20,
   "id": "ad6d0566",
   "metadata": {},
   "outputs": [
    {
     "data": {
      "text/html": [
       "<div>\n",
       "<style scoped>\n",
       "    .dataframe tbody tr th:only-of-type {\n",
       "        vertical-align: middle;\n",
       "    }\n",
       "\n",
       "    .dataframe tbody tr th {\n",
       "        vertical-align: top;\n",
       "    }\n",
       "\n",
       "    .dataframe thead th {\n",
       "        text-align: right;\n",
       "    }\n",
       "</style>\n",
       "<table border=\"1\" class=\"dataframe\">\n",
       "  <thead>\n",
       "    <tr style=\"text-align: right;\">\n",
       "      <th></th>\n",
       "      <th>token</th>\n",
       "      <th>pos_tag</th>\n",
       "      <th>counts</th>\n",
       "    </tr>\n",
       "  </thead>\n",
       "  <tbody>\n",
       "    <tr>\n",
       "      <th>5981</th>\n",
       "      <td>people</td>\n",
       "      <td>NOUN</td>\n",
       "      <td>77</td>\n",
       "    </tr>\n",
       "    <tr>\n",
       "      <th>7349</th>\n",
       "      <td>t</td>\n",
       "      <td>NOUN</td>\n",
       "      <td>65</td>\n",
       "    </tr>\n",
       "    <tr>\n",
       "      <th>6216</th>\n",
       "      <td>president</td>\n",
       "      <td>NOUN</td>\n",
       "      <td>58</td>\n",
       "    </tr>\n",
       "    <tr>\n",
       "      <th>7960</th>\n",
       "      <td>women</td>\n",
       "      <td>NOUN</td>\n",
       "      <td>55</td>\n",
       "    </tr>\n",
       "    <tr>\n",
       "      <th>7516</th>\n",
       "      <td>time</td>\n",
       "      <td>NOUN</td>\n",
       "      <td>52</td>\n",
       "    </tr>\n",
       "    <tr>\n",
       "      <th>3138</th>\n",
       "      <td>campaign</td>\n",
       "      <td>NOUN</td>\n",
       "      <td>44</td>\n",
       "    </tr>\n",
       "    <tr>\n",
       "      <th>8011</th>\n",
       "      <td>year</td>\n",
       "      <td>NOUN</td>\n",
       "      <td>44</td>\n",
       "    </tr>\n",
       "    <tr>\n",
       "      <th>4581</th>\n",
       "      <td>government</td>\n",
       "      <td>NOUN</td>\n",
       "      <td>41</td>\n",
       "    </tr>\n",
       "    <tr>\n",
       "      <th>5213</th>\n",
       "      <td>law</td>\n",
       "      <td>NOUN</td>\n",
       "      <td>40</td>\n",
       "    </tr>\n",
       "    <tr>\n",
       "      <th>8013</th>\n",
       "      <td>years</td>\n",
       "      <td>NOUN</td>\n",
       "      <td>40</td>\n",
       "    </tr>\n",
       "    <tr>\n",
       "      <th>7165</th>\n",
       "      <td>state</td>\n",
       "      <td>NOUN</td>\n",
       "      <td>38</td>\n",
       "    </tr>\n",
       "    <tr>\n",
       "      <th>4012</th>\n",
       "      <td>election</td>\n",
       "      <td>NOUN</td>\n",
       "      <td>37</td>\n",
       "    </tr>\n",
       "    <tr>\n",
       "      <th>3643</th>\n",
       "      <td>day</td>\n",
       "      <td>NOUN</td>\n",
       "      <td>35</td>\n",
       "    </tr>\n",
       "    <tr>\n",
       "      <th>5482</th>\n",
       "      <td>media</td>\n",
       "      <td>NOUN</td>\n",
       "      <td>35</td>\n",
       "    </tr>\n",
       "    <tr>\n",
       "      <th>3538</th>\n",
       "      <td>country</td>\n",
       "      <td>NOUN</td>\n",
       "      <td>33</td>\n",
       "    </tr>\n",
       "  </tbody>\n",
       "</table>\n",
       "</div>"
      ],
      "text/plain": [
       "           token pos_tag  counts\n",
       "5981      people    NOUN      77\n",
       "7349           t    NOUN      65\n",
       "6216   president    NOUN      58\n",
       "7960       women    NOUN      55\n",
       "7516        time    NOUN      52\n",
       "3138    campaign    NOUN      44\n",
       "8011        year    NOUN      44\n",
       "4581  government    NOUN      41\n",
       "5213         law    NOUN      40\n",
       "8013       years    NOUN      40\n",
       "7165       state    NOUN      38\n",
       "4012    election    NOUN      37\n",
       "3643         day    NOUN      35\n",
       "5482       media    NOUN      35\n",
       "3538     country    NOUN      33"
      ]
     },
     "execution_count": 20,
     "metadata": {},
     "output_type": "execute_result"
    }
   ],
   "source": [
    "pos_counts_fake[pos_counts_fake.pos_tag == \"NOUN\"][:15]"
   ]
  },
  {
   "cell_type": "code",
   "execution_count": 21,
   "id": "30a4c5a1",
   "metadata": {},
   "outputs": [
    {
     "data": {
      "text/html": [
       "<div>\n",
       "<style scoped>\n",
       "    .dataframe tbody tr th:only-of-type {\n",
       "        vertical-align: middle;\n",
       "    }\n",
       "\n",
       "    .dataframe tbody tr th {\n",
       "        vertical-align: top;\n",
       "    }\n",
       "\n",
       "    .dataframe thead th {\n",
       "        text-align: right;\n",
       "    }\n",
       "</style>\n",
       "<table border=\"1\" class=\"dataframe\">\n",
       "  <thead>\n",
       "    <tr style=\"text-align: right;\">\n",
       "      <th></th>\n",
       "      <th>token</th>\n",
       "      <th>pos_tag</th>\n",
       "      <th>counts</th>\n",
       "    </tr>\n",
       "  </thead>\n",
       "  <tbody>\n",
       "    <tr>\n",
       "      <th>3738</th>\n",
       "      <td>government</td>\n",
       "      <td>NOUN</td>\n",
       "      <td>71</td>\n",
       "    </tr>\n",
       "    <tr>\n",
       "      <th>6618</th>\n",
       "      <td>year</td>\n",
       "      <td>NOUN</td>\n",
       "      <td>64</td>\n",
       "    </tr>\n",
       "    <tr>\n",
       "      <th>5901</th>\n",
       "      <td>state</td>\n",
       "      <td>NOUN</td>\n",
       "      <td>57</td>\n",
       "    </tr>\n",
       "    <tr>\n",
       "      <th>2360</th>\n",
       "      <td>bill</td>\n",
       "      <td>NOUN</td>\n",
       "      <td>55</td>\n",
       "    </tr>\n",
       "    <tr>\n",
       "      <th>1975</th>\n",
       "      <td>administration</td>\n",
       "      <td>NOUN</td>\n",
       "      <td>51</td>\n",
       "    </tr>\n",
       "    <tr>\n",
       "      <th>5066</th>\n",
       "      <td>president</td>\n",
       "      <td>NOUN</td>\n",
       "      <td>49</td>\n",
       "    </tr>\n",
       "    <tr>\n",
       "      <th>3277</th>\n",
       "      <td>election</td>\n",
       "      <td>NOUN</td>\n",
       "      <td>48</td>\n",
       "    </tr>\n",
       "    <tr>\n",
       "      <th>4919</th>\n",
       "      <td>people</td>\n",
       "      <td>NOUN</td>\n",
       "      <td>45</td>\n",
       "    </tr>\n",
       "    <tr>\n",
       "      <th>4786</th>\n",
       "      <td>order</td>\n",
       "      <td>NOUN</td>\n",
       "      <td>45</td>\n",
       "    </tr>\n",
       "    <tr>\n",
       "      <th>4259</th>\n",
       "      <td>law</td>\n",
       "      <td>NOUN</td>\n",
       "      <td>42</td>\n",
       "    </tr>\n",
       "    <tr>\n",
       "      <th>2497</th>\n",
       "      <td>campaign</td>\n",
       "      <td>NOUN</td>\n",
       "      <td>42</td>\n",
       "    </tr>\n",
       "    <tr>\n",
       "      <th>6095</th>\n",
       "      <td>tax</td>\n",
       "      <td>NOUN</td>\n",
       "      <td>39</td>\n",
       "    </tr>\n",
       "    <tr>\n",
       "      <th>5396</th>\n",
       "      <td>reporters</td>\n",
       "      <td>NOUN</td>\n",
       "      <td>38</td>\n",
       "    </tr>\n",
       "    <tr>\n",
       "      <th>5905</th>\n",
       "      <td>statement</td>\n",
       "      <td>NOUN</td>\n",
       "      <td>37</td>\n",
       "    </tr>\n",
       "    <tr>\n",
       "      <th>2873</th>\n",
       "      <td>court</td>\n",
       "      <td>NOUN</td>\n",
       "      <td>37</td>\n",
       "    </tr>\n",
       "  </tbody>\n",
       "</table>\n",
       "</div>"
      ],
      "text/plain": [
       "               token pos_tag  counts\n",
       "3738      government    NOUN      71\n",
       "6618            year    NOUN      64\n",
       "5901           state    NOUN      57\n",
       "2360            bill    NOUN      55\n",
       "1975  administration    NOUN      51\n",
       "5066       president    NOUN      49\n",
       "3277        election    NOUN      48\n",
       "4919          people    NOUN      45\n",
       "4786           order    NOUN      45\n",
       "4259             law    NOUN      42\n",
       "2497        campaign    NOUN      42\n",
       "6095             tax    NOUN      39\n",
       "5396       reporters    NOUN      38\n",
       "5905       statement    NOUN      37\n",
       "2873           court    NOUN      37"
      ]
     },
     "execution_count": 21,
     "metadata": {},
     "output_type": "execute_result"
    }
   ],
   "source": [
    "pos_counts_fact[pos_counts_fact.pos_tag == \"NOUN\"][:15]"
   ]
  },
  {
   "cell_type": "markdown",
   "id": "5b0e450d",
   "metadata": {},
   "source": [
    "# Named Entities"
   ]
  },
  {
   "cell_type": "code",
   "execution_count": 22,
   "id": "480767fc",
   "metadata": {},
   "outputs": [],
   "source": [
    "top_entities_fake = fake_tagsdf[fake_tagsdf[\"ner_tag\"] != \"\"].groupby(['token','ner_tag']).size().reset_index(name=\"counts\").sort_values(by='counts', ascending=False)"
   ]
  },
  {
   "cell_type": "code",
   "execution_count": 23,
   "id": "48c917d1",
   "metadata": {},
   "outputs": [],
   "source": [
    "top_entities_fact = fact_tagsdf[fact_tagsdf[\"ner_tag\"] != \"\"].groupby(['token','ner_tag']).size().reset_index(name=\"counts\").sort_values(by='counts', ascending=False)"
   ]
  },
  {
   "cell_type": "code",
   "execution_count": 24,
   "id": "9ffdd70d",
   "metadata": {},
   "outputs": [],
   "source": [
    "ner_palette =  {\n",
    "    'ORG' : sns.color_palette(\"Set2\").as_hex()[0],\n",
    "    'GPE' : sns.color_palette(\"Set2\").as_hex()[1],\n",
    "    'NORP' : sns.color_palette(\"Set2\").as_hex()[2],\n",
    "    'PERSON' : sns.color_palette(\"Set2\").as_hex()[3],\n",
    "    'DATE' : sns.color_palette(\"Set2\").as_hex()[4], \n",
    "    'CARDINAL' : sns.color_palette(\"Set2\").as_hex()[5],\n",
    "    'PERCENT' : sns.color_palette(\"Set2\").as_hex()[6]                                  \n",
    "}"
   ]
  },
  {
   "cell_type": "code",
   "execution_count": 25,
   "id": "07d0d2bf",
   "metadata": {},
   "outputs": [
    {
     "data": {
      "text/plain": [
       "Text(0.5, 1.0, 'Most Common Named Entities in Fake News')"
      ]
     },
     "execution_count": 25,
     "metadata": {},
     "output_type": "execute_result"
    },
    {
     "data": {
      "image/png": "[encoded data removed]",
      "text/plain": [
       "<Figure size 1200x800 with 1 Axes>"
      ]
     },
     "metadata": {},
     "output_type": "display_data"
    }
   ],
   "source": [
    "sns.barplot (\n",
    "    x='counts',\n",
    "    y='token',\n",
    "    hue='ner_tag',\n",
    "    data=top_entities_fake[:10],\n",
    "    palette=ner_palette,    \n",
    "    orient='h', \n",
    "    dodge=False\n",
    ").set_title('Most Common Named Entities in Fake News')"
   ]
  },
  {
   "cell_type": "code",
   "execution_count": 26,
   "id": "93f4cf08",
   "metadata": {},
   "outputs": [
    {
     "data": {
      "text/plain": [
       "Text(0.5, 1.0, 'Most Common Named Entities in Factual News')"
      ]
     },
     "execution_count": 26,
     "metadata": {},
     "output_type": "execute_result"
    },
    {
     "data": {
      "image/png": "[encoded data removed]",
      "text/plain": [
       "<Figure size 1200x800 with 1 Axes>"
      ]
     },
     "metadata": {},
     "output_type": "display_data"
    }
   ],
   "source": [
    "sns.barplot (\n",
    "    x='counts',\n",
    "    y='token',\n",
    "    hue='ner_tag',\n",
    "    data=top_entities_fact[:10],\n",
    "    palette=ner_palette,    \n",
    "    orient='h', \n",
    "    dodge=False\n",
    ").set_title('Most Common Named Entities in Factual News')"
   ]
  },
  {
   "cell_type": "code",
   "execution_count": 27,
   "id": "00f9850a",
   "metadata": {},
   "outputs": [
    {
     "data": {
      "text/html": [
       "<div>\n",
       "<style scoped>\n",
       "    .dataframe tbody tr th:only-of-type {\n",
       "        vertical-align: middle;\n",
       "    }\n",
       "\n",
       "    .dataframe tbody tr th {\n",
       "        vertical-align: top;\n",
       "    }\n",
       "\n",
       "    .dataframe thead th {\n",
       "        text-align: right;\n",
       "    }\n",
       "</style>\n",
       "<table border=\"1\" class=\"dataframe\">\n",
       "  <thead>\n",
       "    <tr style=\"text-align: right;\">\n",
       "      <th></th>\n",
       "      <th>title</th>\n",
       "      <th>text</th>\n",
       "      <th>date</th>\n",
       "      <th>fake_or_factual</th>\n",
       "    </tr>\n",
       "  </thead>\n",
       "  <tbody>\n",
       "    <tr>\n",
       "      <th>0</th>\n",
       "      <td>HOLLYWEIRD LIB SUSAN SARANDON Compares Muslim ...</td>\n",
       "      <td>There are two small problems with your analogy...</td>\n",
       "      <td>Dec 30, 2015</td>\n",
       "      <td>Fake News</td>\n",
       "    </tr>\n",
       "    <tr>\n",
       "      <th>1</th>\n",
       "      <td>Elijah Cummings Called Trump Out To His Face ...</td>\n",
       "      <td>Buried in Trump s bonkers interview with New Y...</td>\n",
       "      <td>April 6, 2017</td>\n",
       "      <td>Fake News</td>\n",
       "    </tr>\n",
       "    <tr>\n",
       "      <th>2</th>\n",
       "      <td>Hillary Clinton Says Half Her Cabinet Will Be...</td>\n",
       "      <td>Women make up over 50 percent of this country,...</td>\n",
       "      <td>April 26, 2016</td>\n",
       "      <td>Fake News</td>\n",
       "    </tr>\n",
       "    <tr>\n",
       "      <th>3</th>\n",
       "      <td>Russian bombing of U.S.-backed forces being di...</td>\n",
       "      <td>WASHINGTON (Reuters) - U.S. Defense Secretary ...</td>\n",
       "      <td>September 18, 2017</td>\n",
       "      <td>Factual News</td>\n",
       "    </tr>\n",
       "    <tr>\n",
       "      <th>4</th>\n",
       "      <td>Britain says window to restore Northern Irelan...</td>\n",
       "      <td>BELFAST (Reuters) - Northern Ireland s politic...</td>\n",
       "      <td>September 4, 2017</td>\n",
       "      <td>Factual News</td>\n",
       "    </tr>\n",
       "  </tbody>\n",
       "</table>\n",
       "</div>"
      ],
      "text/plain": [
       "                                               title  \\\n",
       "0  HOLLYWEIRD LIB SUSAN SARANDON Compares Muslim ...   \n",
       "1   Elijah Cummings Called Trump Out To His Face ...   \n",
       "2   Hillary Clinton Says Half Her Cabinet Will Be...   \n",
       "3  Russian bombing of U.S.-backed forces being di...   \n",
       "4  Britain says window to restore Northern Irelan...   \n",
       "\n",
       "                                                text                 date  \\\n",
       "0  There are two small problems with your analogy...         Dec 30, 2015   \n",
       "1  Buried in Trump s bonkers interview with New Y...        April 6, 2017   \n",
       "2  Women make up over 50 percent of this country,...       April 26, 2016   \n",
       "3  WASHINGTON (Reuters) - U.S. Defense Secretary ...  September 18, 2017    \n",
       "4  BELFAST (Reuters) - Northern Ireland s politic...   September 4, 2017    \n",
       "\n",
       "  fake_or_factual  \n",
       "0       Fake News  \n",
       "1       Fake News  \n",
       "2       Fake News  \n",
       "3    Factual News  \n",
       "4    Factual News  "
      ]
     },
     "execution_count": 27,
     "metadata": {},
     "output_type": "execute_result"
    }
   ],
   "source": [
    "data.head()"
   ]
  },
  {
   "cell_type": "code",
   "execution_count": 28,
   "id": "ebed1f2a",
   "metadata": {},
   "outputs": [],
   "source": [
    "data['text_clean'] = data.apply(lambda x: re.sub(r\"^[^-]*-\\s\", '', x['text']), axis=1)"
   ]
  },
  {
   "cell_type": "code",
   "execution_count": 29,
   "id": "a7af7642",
   "metadata": {},
   "outputs": [],
   "source": [
    "data['text_clean'] = data['text_clean'].str.lower()"
   ]
  },
  {
   "cell_type": "code",
   "execution_count": 30,
   "id": "fdf5dac1",
   "metadata": {},
   "outputs": [],
   "source": [
    "data['text_clean'] = data.apply(lambda x: re.sub(r\"([^\\s\\w])\", '', x['text_clean']), axis=1)"
   ]
  },
  {
   "cell_type": "code",
   "execution_count": 31,
   "id": "06f2623d",
   "metadata": {},
   "outputs": [
    {
     "name": "stdout",
     "output_type": "stream",
     "text": [
      "['a', 'about', 'above', 'after', 'again', 'against', 'ain', 'all', 'am', 'an', 'and', 'any', 'are', 'aren', \"aren't\", 'as', 'at', 'be', 'because', 'been', 'before', 'being', 'below', 'between', 'both', 'but', 'by', 'can', 'couldn', \"couldn't\", 'd', 'did', 'didn', \"didn't\", 'do', 'does', 'doesn', \"doesn't\", 'doing', 'don', \"don't\", 'down', 'during', 'each', 'few', 'for', 'from', 'further', 'had', 'hadn', \"hadn't\", 'has', 'hasn', \"hasn't\", 'have', 'haven', \"haven't\", 'having', 'he', \"he'd\", \"he'll\", 'her', 'here', 'hers', 'herself', \"he's\", 'him', 'himself', 'his', 'how', 'i', \"i'd\", 'if', \"i'll\", \"i'm\", 'in', 'into', 'is', 'isn', \"isn't\", 'it', \"it'd\", \"it'll\", \"it's\", 'its', 'itself', \"i've\", 'just', 'll', 'm', 'ma', 'me', 'mightn', \"mightn't\", 'more', 'most', 'mustn', \"mustn't\", 'my', 'myself', 'needn', \"needn't\", 'no', 'nor', 'not', 'now', 'o', 'of', 'off', 'on', 'once', 'only', 'or', 'other', 'our', 'ours', 'ourselves', 'out', 'over', 'own', 're', 's', 'same', 'shan', \"shan't\", 'she', \"she'd\", \"she'll\", \"she's\", 'should', 'shouldn', \"shouldn't\", \"should've\", 'so', 'some', 'such', 't', 'than', 'that', \"that'll\", 'the', 'their', 'theirs', 'them', 'themselves', 'then', 'there', 'these', 'they', \"they'd\", \"they'll\", \"they're\", \"they've\", 'this', 'those', 'through', 'to', 'too', 'under', 'until', 'up', 've', 'very', 'was', 'wasn', \"wasn't\", 'we', \"we'd\", \"we'll\", \"we're\", 'were', 'weren', \"weren't\", \"we've\", 'what', 'when', 'where', 'which', 'while', 'who', 'whom', 'why', 'will', 'with', 'won', \"won't\", 'wouldn', \"wouldn't\", 'y', 'you', \"you'd\", \"you'll\", 'your', \"you're\", 'yours', 'yourself', 'yourselves', \"you've\"]\n"
     ]
    }
   ],
   "source": [
    "en_stopwords = stopwords.words('english')\n",
    "print(en_stopwords)"
   ]
  },
  {
   "cell_type": "code",
   "execution_count": 32,
   "id": "e3d841fa",
   "metadata": {},
   "outputs": [],
   "source": [
    "data['text_clean'] = data['text_clean'].apply(lambda x: ' '.join([word for word in x.split() if word not in (en_stopwords)]))"
   ]
  },
  {
   "cell_type": "code",
   "execution_count": 33,
   "id": "9fc4ba14",
   "metadata": {},
   "outputs": [],
   "source": [
    "data['text_clean'] = data.apply(lambda x: word_tokenize(x['text_clean']), axis=1)"
   ]
  },
  {
   "cell_type": "code",
   "execution_count": 34,
   "id": "98101251",
   "metadata": {},
   "outputs": [],
   "source": [
    "lemmitizer = WordNetLemmatizer()\n",
    "data['text_clean'] = data['text_clean'].apply(lambda tokens: [lemmitizer.lemmatize(token) for token in tokens])"
   ]
  },
  {
   "cell_type": "code",
   "execution_count": 35,
   "id": "5ec8b7c3",
   "metadata": {},
   "outputs": [],
   "source": [
    "tokens_clean = sum(data['text_clean'], [])"
   ]
  },
  {
   "cell_type": "code",
   "execution_count": 36,
   "id": "ca0a82f7",
   "metadata": {},
   "outputs": [
    {
     "name": "stdout",
     "output_type": "stream",
     "text": [
      "           index  count\n",
      "0        (said,)    580\n",
      "1       (trump,)    580\n",
      "2           (u,)    277\n",
      "3       (state,)    275\n",
      "4   (president,)    259\n",
      "5       (would,)    226\n",
      "6         (one,)    160\n",
      "7     (clinton,)    141\n",
      "8        (year,)    139\n",
      "9  (republican,)    137\n"
     ]
    }
   ],
   "source": [
    "unigrams = (pd.Series(nltk.ngrams(tokens_clean, 1)).value_counts()).reset_index()[:10]\n",
    "print(unigrams[:10])"
   ]
  },
  {
   "cell_type": "code",
   "execution_count": 37,
   "id": "0cd14b76",
   "metadata": {},
   "outputs": [
    {
     "data": {
      "text/plain": [
       "Text(0.5, 1.0, 'Most Common Unigrams After Preprocessing')"
      ]
     },
     "execution_count": 37,
     "metadata": {},
     "output_type": "execute_result"
    },
    {
     "data": {
      "image/png": "[encoded data removed]",
      "text/plain": [
       "<Figure size 1200x800 with 1 Axes>"
      ]
     },
     "metadata": {},
     "output_type": "display_data"
    }
   ],
   "source": [
    "unigrams['token'] = unigrams['index'].apply(lambda x: x[0])\n",
    "\n",
    "sns.barplot(\n",
    "    x='count',\n",
    "    y='token',\n",
    "    data=unigrams,\n",
    "    color=default_plot_color,\n",
    "    orient='h',\n",
    "    dodge=False\n",
    ").set_title('Most Common Unigrams After Preprocessing')"
   ]
  },
  {
   "cell_type": "code",
   "execution_count": 38,
   "id": "ee24b09e",
   "metadata": {},
   "outputs": [
    {
     "name": "stdout",
     "output_type": "stream",
     "text": [
      "                     index  count\n",
      "0          (donald, trump)    113\n",
      "1          (united, state)     84\n",
      "2           (white, house)     74\n",
      "3      (president, donald)     47\n",
      "4       (hillary, clinton)     39\n",
      "5              (new, york)     33\n",
      "6         (supreme, court)     30\n",
      "7             (image, via)     29\n",
      "8         (official, said)     26\n",
      "9  (trump, administration)     26\n"
     ]
    }
   ],
   "source": [
    "bigrams = (pd.Series(nltk.ngrams(tokens_clean, 2)).value_counts()).reset_index()[:10]\n",
    "print(bigrams[:10])"
   ]
  },
  {
   "cell_type": "markdown",
   "id": "5305b630",
   "metadata": {},
   "source": [
    "# Sentiment Analysis"
   ]
  },
  {
   "cell_type": "code",
   "execution_count": 39,
   "id": "4bfa9246",
   "metadata": {},
   "outputs": [],
   "source": [
    "vader_sentiment = SentimentIntensityAnalyzer()"
   ]
  },
  {
   "cell_type": "code",
   "execution_count": 40,
   "id": "fa792697",
   "metadata": {},
   "outputs": [],
   "source": [
    "data['vader_sentiment_score'] = data['text'].apply(lambda x: vader_sentiment.polarity_scores(x)['compound'])"
   ]
  },
  {
   "cell_type": "code",
   "execution_count": 41,
   "id": "17ae2f48",
   "metadata": {},
   "outputs": [
    {
     "data": {
      "text/html": [
       "<div>\n",
       "<style scoped>\n",
       "    .dataframe tbody tr th:only-of-type {\n",
       "        vertical-align: middle;\n",
       "    }\n",
       "\n",
       "    .dataframe tbody tr th {\n",
       "        vertical-align: top;\n",
       "    }\n",
       "\n",
       "    .dataframe thead th {\n",
       "        text-align: right;\n",
       "    }\n",
       "</style>\n",
       "<table border=\"1\" class=\"dataframe\">\n",
       "  <thead>\n",
       "    <tr style=\"text-align: right;\">\n",
       "      <th></th>\n",
       "      <th>title</th>\n",
       "      <th>text</th>\n",
       "      <th>date</th>\n",
       "      <th>fake_or_factual</th>\n",
       "      <th>text_clean</th>\n",
       "      <th>vader_sentiment_score</th>\n",
       "    </tr>\n",
       "  </thead>\n",
       "  <tbody>\n",
       "    <tr>\n",
       "      <th>0</th>\n",
       "      <td>HOLLYWEIRD LIB SUSAN SARANDON Compares Muslim ...</td>\n",
       "      <td>There are two small problems with your analogy...</td>\n",
       "      <td>Dec 30, 2015</td>\n",
       "      <td>Fake News</td>\n",
       "      <td>[two, small, problem, analogy, susan, jesus, m...</td>\n",
       "      <td>-0.3660</td>\n",
       "    </tr>\n",
       "    <tr>\n",
       "      <th>1</th>\n",
       "      <td>Elijah Cummings Called Trump Out To His Face ...</td>\n",
       "      <td>Buried in Trump s bonkers interview with New Y...</td>\n",
       "      <td>April 6, 2017</td>\n",
       "      <td>Fake News</td>\n",
       "      <td>[buried, trump, bonkers, interview, new, york,...</td>\n",
       "      <td>-0.8197</td>\n",
       "    </tr>\n",
       "    <tr>\n",
       "      <th>2</th>\n",
       "      <td>Hillary Clinton Says Half Her Cabinet Will Be...</td>\n",
       "      <td>Women make up over 50 percent of this country,...</td>\n",
       "      <td>April 26, 2016</td>\n",
       "      <td>Fake News</td>\n",
       "      <td>[woman, make, 50, percent, country, grossly, u...</td>\n",
       "      <td>0.9779</td>\n",
       "    </tr>\n",
       "    <tr>\n",
       "      <th>3</th>\n",
       "      <td>Russian bombing of U.S.-backed forces being di...</td>\n",
       "      <td>WASHINGTON (Reuters) - U.S. Defense Secretary ...</td>\n",
       "      <td>September 18, 2017</td>\n",
       "      <td>Factual News</td>\n",
       "      <td>[u, defense, secretary, jim, mattis, said, mon...</td>\n",
       "      <td>-0.3400</td>\n",
       "    </tr>\n",
       "    <tr>\n",
       "      <th>4</th>\n",
       "      <td>Britain says window to restore Northern Irelan...</td>\n",
       "      <td>BELFAST (Reuters) - Northern Ireland s politic...</td>\n",
       "      <td>September 4, 2017</td>\n",
       "      <td>Factual News</td>\n",
       "      <td>[northern, ireland, political, party, rapidly,...</td>\n",
       "      <td>0.8590</td>\n",
       "    </tr>\n",
       "  </tbody>\n",
       "</table>\n",
       "</div>"
      ],
      "text/plain": [
       "                                               title  \\\n",
       "0  HOLLYWEIRD LIB SUSAN SARANDON Compares Muslim ...   \n",
       "1   Elijah Cummings Called Trump Out To His Face ...   \n",
       "2   Hillary Clinton Says Half Her Cabinet Will Be...   \n",
       "3  Russian bombing of U.S.-backed forces being di...   \n",
       "4  Britain says window to restore Northern Irelan...   \n",
       "\n",
       "                                                text                 date  \\\n",
       "0  There are two small problems with your analogy...         Dec 30, 2015   \n",
       "1  Buried in Trump s bonkers interview with New Y...        April 6, 2017   \n",
       "2  Women make up over 50 percent of this country,...       April 26, 2016   \n",
       "3  WASHINGTON (Reuters) - U.S. Defense Secretary ...  September 18, 2017    \n",
       "4  BELFAST (Reuters) - Northern Ireland s politic...   September 4, 2017    \n",
       "\n",
       "  fake_or_factual                                         text_clean  \\\n",
       "0       Fake News  [two, small, problem, analogy, susan, jesus, m...   \n",
       "1       Fake News  [buried, trump, bonkers, interview, new, york,...   \n",
       "2       Fake News  [woman, make, 50, percent, country, grossly, u...   \n",
       "3    Factual News  [u, defense, secretary, jim, mattis, said, mon...   \n",
       "4    Factual News  [northern, ireland, political, party, rapidly,...   \n",
       "\n",
       "   vader_sentiment_score  \n",
       "0                -0.3660  \n",
       "1                -0.8197  \n",
       "2                 0.9779  \n",
       "3                -0.3400  \n",
       "4                 0.8590  "
      ]
     },
     "execution_count": 41,
     "metadata": {},
     "output_type": "execute_result"
    }
   ],
   "source": [
    "data.head()"
   ]
  },
  {
   "cell_type": "code",
   "execution_count": 42,
   "id": "136689b6",
   "metadata": {},
   "outputs": [],
   "source": [
    "bins = [-1, -0.1, 0.1, 1]\n",
    "names = ['Negative', 'Neutral', 'Positive']"
   ]
  },
  {
   "cell_type": "code",
   "execution_count": 43,
   "id": "99be3a19",
   "metadata": {},
   "outputs": [],
   "source": [
    "data['vader_sentiment_label'] = pd.cut(data['vader_sentiment_score'], bins=bins, labels=names) "
   ]
  },
  {
   "cell_type": "code",
   "execution_count": 44,
   "id": "d429620d",
   "metadata": {},
   "outputs": [
    {
     "data": {
      "text/html": [
       "<div>\n",
       "<style scoped>\n",
       "    .dataframe tbody tr th:only-of-type {\n",
       "        vertical-align: middle;\n",
       "    }\n",
       "\n",
       "    .dataframe tbody tr th {\n",
       "        vertical-align: top;\n",
       "    }\n",
       "\n",
       "    .dataframe thead th {\n",
       "        text-align: right;\n",
       "    }\n",
       "</style>\n",
       "<table border=\"1\" class=\"dataframe\">\n",
       "  <thead>\n",
       "    <tr style=\"text-align: right;\">\n",
       "      <th></th>\n",
       "      <th>title</th>\n",
       "      <th>text</th>\n",
       "      <th>date</th>\n",
       "      <th>fake_or_factual</th>\n",
       "      <th>text_clean</th>\n",
       "      <th>vader_sentiment_score</th>\n",
       "      <th>vader_sentiment_label</th>\n",
       "    </tr>\n",
       "  </thead>\n",
       "  <tbody>\n",
       "    <tr>\n",
       "      <th>0</th>\n",
       "      <td>HOLLYWEIRD LIB SUSAN SARANDON Compares Muslim ...</td>\n",
       "      <td>There are two small problems with your analogy...</td>\n",
       "      <td>Dec 30, 2015</td>\n",
       "      <td>Fake News</td>\n",
       "      <td>[two, small, problem, analogy, susan, jesus, m...</td>\n",
       "      <td>-0.3660</td>\n",
       "      <td>Negative</td>\n",
       "    </tr>\n",
       "    <tr>\n",
       "      <th>1</th>\n",
       "      <td>Elijah Cummings Called Trump Out To His Face ...</td>\n",
       "      <td>Buried in Trump s bonkers interview with New Y...</td>\n",
       "      <td>April 6, 2017</td>\n",
       "      <td>Fake News</td>\n",
       "      <td>[buried, trump, bonkers, interview, new, york,...</td>\n",
       "      <td>-0.8197</td>\n",
       "      <td>Negative</td>\n",
       "    </tr>\n",
       "    <tr>\n",
       "      <th>2</th>\n",
       "      <td>Hillary Clinton Says Half Her Cabinet Will Be...</td>\n",
       "      <td>Women make up over 50 percent of this country,...</td>\n",
       "      <td>April 26, 2016</td>\n",
       "      <td>Fake News</td>\n",
       "      <td>[woman, make, 50, percent, country, grossly, u...</td>\n",
       "      <td>0.9779</td>\n",
       "      <td>Positive</td>\n",
       "    </tr>\n",
       "    <tr>\n",
       "      <th>3</th>\n",
       "      <td>Russian bombing of U.S.-backed forces being di...</td>\n",
       "      <td>WASHINGTON (Reuters) - U.S. Defense Secretary ...</td>\n",
       "      <td>September 18, 2017</td>\n",
       "      <td>Factual News</td>\n",
       "      <td>[u, defense, secretary, jim, mattis, said, mon...</td>\n",
       "      <td>-0.3400</td>\n",
       "      <td>Negative</td>\n",
       "    </tr>\n",
       "    <tr>\n",
       "      <th>4</th>\n",
       "      <td>Britain says window to restore Northern Irelan...</td>\n",
       "      <td>BELFAST (Reuters) - Northern Ireland s politic...</td>\n",
       "      <td>September 4, 2017</td>\n",
       "      <td>Factual News</td>\n",
       "      <td>[northern, ireland, political, party, rapidly,...</td>\n",
       "      <td>0.8590</td>\n",
       "      <td>Positive</td>\n",
       "    </tr>\n",
       "  </tbody>\n",
       "</table>\n",
       "</div>"
      ],
      "text/plain": [
       "                                               title  \\\n",
       "0  HOLLYWEIRD LIB SUSAN SARANDON Compares Muslim ...   \n",
       "1   Elijah Cummings Called Trump Out To His Face ...   \n",
       "2   Hillary Clinton Says Half Her Cabinet Will Be...   \n",
       "3  Russian bombing of U.S.-backed forces being di...   \n",
       "4  Britain says window to restore Northern Irelan...   \n",
       "\n",
       "                                                text                 date  \\\n",
       "0  There are two small problems with your analogy...         Dec 30, 2015   \n",
       "1  Buried in Trump s bonkers interview with New Y...        April 6, 2017   \n",
       "2  Women make up over 50 percent of this country,...       April 26, 2016   \n",
       "3  WASHINGTON (Reuters) - U.S. Defense Secretary ...  September 18, 2017    \n",
       "4  BELFAST (Reuters) - Northern Ireland s politic...   September 4, 2017    \n",
       "\n",
       "  fake_or_factual                                         text_clean  \\\n",
       "0       Fake News  [two, small, problem, analogy, susan, jesus, m...   \n",
       "1       Fake News  [buried, trump, bonkers, interview, new, york,...   \n",
       "2       Fake News  [woman, make, 50, percent, country, grossly, u...   \n",
       "3    Factual News  [u, defense, secretary, jim, mattis, said, mon...   \n",
       "4    Factual News  [northern, ireland, political, party, rapidly,...   \n",
       "\n",
       "   vader_sentiment_score vader_sentiment_label  \n",
       "0                -0.3660              Negative  \n",
       "1                -0.8197              Negative  \n",
       "2                 0.9779              Positive  \n",
       "3                -0.3400              Negative  \n",
       "4                 0.8590              Positive  "
      ]
     },
     "execution_count": 44,
     "metadata": {},
     "output_type": "execute_result"
    }
   ],
   "source": [
    "data.head()"
   ]
  },
  {
   "cell_type": "code",
   "execution_count": 45,
   "id": "bfa7685e",
   "metadata": {},
   "outputs": [
    {
     "data": {
      "text/plain": [
       "<Axes: xlabel='vader_sentiment_label'>"
      ]
     },
     "execution_count": 45,
     "metadata": {},
     "output_type": "execute_result"
    },
    {
     "data": {
      "image/png": "[encoded data removed]",
      "text/plain": [
       "<Figure size 1200x800 with 1 Axes>"
      ]
     },
     "metadata": {},
     "output_type": "display_data"
    }
   ],
   "source": [
    "data['vader_sentiment_label'].value_counts().plot.bar(color=default_plot_color)"
   ]
  },
  {
   "cell_type": "code",
   "execution_count": 46,
   "id": "bee8726f",
   "metadata": {},
   "outputs": [
    {
     "name": "stderr",
     "output_type": "stream",
     "text": [
      "C:\\Users\\khafn\\AppData\\Local\\Temp\\ipykernel_16716\\2132788995.py:1: UserWarning: The palette list has more values (6) than needed (3), which may not be intended.\n",
      "  sns.countplot(\n"
     ]
    },
    {
     "data": {
      "text/plain": [
       "Text(0.5, 1.0, 'Sentiment by News Type')"
      ]
     },
     "execution_count": 46,
     "metadata": {},
     "output_type": "execute_result"
    },
    {
     "data": {
      "image/png": "[encoded data removed]",
      "text/plain": [
       "<Figure size 1200x800 with 1 Axes>"
      ]
     },
     "metadata": {},
     "output_type": "display_data"
    }
   ],
   "source": [
    "sns.countplot(\n",
    "    x='fake_or_factual'\n",
    "    , hue='vader_sentiment_label'\n",
    "    , data=data \n",
    "    , palette=sns.color_palette(\"hls\")\n",
    ").set_title('Sentiment by News Type')"
   ]
  },
  {
   "cell_type": "markdown",
   "id": "e07399f5",
   "metadata": {},
   "source": [
    "# Topic Modelling"
   ]
  },
  {
   "cell_type": "code",
   "execution_count": 47,
   "id": "ddb035cd",
   "metadata": {},
   "outputs": [],
   "source": [
    "# Split the data into fake and factual news \n",
    "fake_news_text = data[data['fake_or_factual'] == 'Fake News']['text_clean'].reset_index(drop=True)"
   ]
  },
  {
   "cell_type": "code",
   "execution_count": 48,
   "id": "8404dadb",
   "metadata": {},
   "outputs": [],
   "source": [
    "# Create a dictionary from the fake news text\n",
    "dictionary_fake = corpora.Dictionary(fake_news_text)"
   ]
  },
  {
   "cell_type": "code",
   "execution_count": 49,
   "id": "434e9a6d",
   "metadata": {},
   "outputs": [],
   "source": [
    "# Create bag-of-words corpus for fake news\n",
    "doc_term_fake = [dictionary_fake.doc2bow(text) for text in fake_news_text]"
   ]
  },
  {
   "cell_type": "code",
   "execution_count": 50,
   "id": "37339858",
   "metadata": {},
   "outputs": [],
   "source": [
    "# Genertate coherence score for fake news\n",
    "coherance_values = []\n",
    "model_list = []\n",
    "\n",
    "min_topics = 2\n",
    "max_topics = 11\n",
    "\n",
    "for num_topics_i in range(min_topics, max_topics+1):\n",
    "    model = gensim.models.LdaModel(doc_term_fake, num_topics=num_topics_i, id2word=dictionary_fake)\n",
    "    model_list.append(model)\n",
    "    coherance_model = CoherenceModel(model=model, texts=fake_news_text, dictionary=dictionary_fake, coherence='c_v')\n",
    "    coherance_values.append(coherance_model.get_coherence())"
   ]
  },
  {
   "cell_type": "code",
   "execution_count": 51,
   "id": "f98199d3",
   "metadata": {},
   "outputs": [
    {
     "data": {
      "image/png": "[encoded data removed]",
      "text/plain": [
       "<Figure size 1200x800 with 1 Axes>"
      ]
     },
     "metadata": {},
     "output_type": "display_data"
    }
   ],
   "source": [
    "plt.plot(range(min_topics, max_topics+1), coherance_values)\n",
    "plt.xlabel(\"Number of Topics\") \n",
    "plt.ylabel(\"Coherence Scores\")\n",
    "plt.legend((\"Coherence_values\"), loc='best')\n",
    "plt.show()  "
   ]
  },
  {
   "cell_type": "code",
   "execution_count": 52,
   "id": "35bfbb43",
   "metadata": {},
   "outputs": [],
   "source": [
    "num_topics_lda =7\n",
    "lda_model = gensim.models.LdaModel(corpus=doc_term_fake, id2word=dictionary_fake, num_topics=num_topics_lda)"
   ]
  },
  {
   "cell_type": "code",
   "execution_count": 53,
   "id": "c33155a4",
   "metadata": {},
   "outputs": [
    {
     "data": {
      "text/plain": [
       "[(0,\n",
       "  '0.019*\"trump\" + 0.005*\"said\" + 0.004*\"time\" + 0.003*\"one\" + 0.003*\"clinton\" + 0.003*\"president\" + 0.003*\"donald\" + 0.003*\"would\" + 0.003*\"image\" + 0.002*\"republican\"'),\n",
       " (1,\n",
       "  '0.009*\"trump\" + 0.007*\"state\" + 0.006*\"said\" + 0.006*\"president\" + 0.005*\"would\" + 0.004*\"republican\" + 0.003*\"people\" + 0.003*\"law\" + 0.003*\"clinton\" + 0.003*\"donald\"'),\n",
       " (2,\n",
       "  '0.013*\"trump\" + 0.004*\"clinton\" + 0.004*\"president\" + 0.004*\"state\" + 0.004*\"would\" + 0.004*\"student\" + 0.003*\"time\" + 0.003*\"one\" + 0.003*\"year\" + 0.003*\"said\"'),\n",
       " (3,\n",
       "  '0.006*\"trump\" + 0.005*\"clinton\" + 0.005*\"president\" + 0.004*\"u\" + 0.004*\"obama\" + 0.003*\"woman\" + 0.003*\"state\" + 0.003*\"said\" + 0.003*\"hillary\" + 0.003*\"get\"'),\n",
       " (4,\n",
       "  '0.013*\"trump\" + 0.005*\"said\" + 0.005*\"one\" + 0.005*\"u\" + 0.004*\"clinton\" + 0.004*\"state\" + 0.004*\"time\" + 0.004*\"donald\" + 0.004*\"would\" + 0.003*\"president\"'),\n",
       " (5,\n",
       "  '0.011*\"trump\" + 0.004*\"president\" + 0.004*\"clinton\" + 0.004*\"republican\" + 0.003*\"said\" + 0.003*\"vote\" + 0.003*\"november\" + 0.003*\"hillary\" + 0.003*\"8\" + 0.003*\"woman\"'),\n",
       " (6,\n",
       "  '0.007*\"trump\" + 0.005*\"said\" + 0.005*\"president\" + 0.004*\"u\" + 0.004*\"obama\" + 0.003*\"year\" + 0.003*\"state\" + 0.003*\"woman\" + 0.003*\"people\" + 0.003*\"one\"')]"
      ]
     },
     "execution_count": 53,
     "metadata": {},
     "output_type": "execute_result"
    }
   ],
   "source": [
    "lda_model.print_topics(num_topics = num_topics_lda, num_words=10)"
   ]
  },
  {
   "cell_type": "code",
   "execution_count": 54,
   "id": "39aaa38a",
   "metadata": {},
   "outputs": [],
   "source": [
    "def tfidf_corpus(doc_term_matrix):\n",
    "    tfidf_model = TfidfModel(corpus =doc_term_matrix, normalize=True)\n",
    "    tfidf_corpus = tfidf_model[doc_term_matrix]\n",
    "    return tfidf_corpus"
   ]
  },
  {
   "cell_type": "code",
   "execution_count": 59,
   "id": "8de9a683",
   "metadata": {},
   "outputs": [],
   "source": [
    "def get_coherence_scores(corpus, dictionary, text, min_topics, max_topics):\n",
    "    coherence_values = []\n",
    "    model_list = [] \n",
    "    for num_topics_i in range(min_topics, max_topics+1):\n",
    "        model = LsiModel(corpus,num_topics=num_topics_i, id2word=dictionary)\n",
    "        model_list.append(model)\n",
    "        coherence_model = CoherenceModel(model=model, texts=text, dictionary=dictionary, coherence='c_v')\n",
    "        coherence_values.append(coherence_model.get_coherence())\n",
    "    \n",
    "    plt.plot(range(min_topics, max_topics+1), coherence_values)\n",
    "    plt.xlabel(\"Number of Topics\")\n",
    "    plt.ylabel(\"Coherence Scores\")\n",
    "    plt.legend((\"Coherence_values\"), loc='best')\n",
    "    plt.show()"
   ]
  },
  {
   "cell_type": "code",
   "execution_count": 60,
   "id": "2bc9f8cd",
   "metadata": {},
   "outputs": [],
   "source": [
    "corpus_tfidf_fake = tfidf_corpus(doc_term_fake)"
   ]
  },
  {
   "cell_type": "code",
   "execution_count": 61,
   "id": "e4631357",
   "metadata": {},
   "outputs": [
    {
     "data": {
      "image/png": "[encoded data removed]",
      "text/plain": [
       "<Figure size 1200x800 with 1 Axes>"
      ]
     },
     "metadata": {},
     "output_type": "display_data"
    }
   ],
   "source": [
    "get_coherence_scores (corpus_tfidf_fake, dictionary_fake, fake_news_text, min_topics=2, max_topics=11)"
   ]
  },
  {
   "cell_type": "code",
   "execution_count": 62,
   "id": "90a7849c",
   "metadata": {},
   "outputs": [],
   "source": [
    "lsa_model = LsiModel(corpus_tfidf_fake, id2word=dictionary_fake, num_topics=7)"
   ]
  },
  {
   "cell_type": "code",
   "execution_count": 63,
   "id": "1d690252",
   "metadata": {},
   "outputs": [
    {
     "data": {
      "text/plain": [
       "[(0,\n",
       "  '0.190*\"trump\" + 0.136*\"clinton\" + 0.095*\"hillary\" + 0.094*\"obama\" + 0.089*\"president\" + 0.087*\"woman\" + 0.078*\"republican\" + 0.077*\"party\" + 0.077*\"flynn\" + 0.074*\"candidate\"'),\n",
       " (1,\n",
       "  '-0.325*\"boiler\" + -0.284*\"acr\" + -0.244*\"room\" + -0.240*\"pm\" + -0.186*\"broadcast\" + -0.180*\"radio\" + -0.142*\"tune\" + -0.142*\"animal\" + -0.134*\"jay\" + -0.132*\"episode\"'),\n",
       " (2,\n",
       "  '-0.623*\"flynn\" + -0.182*\"immunity\" + -0.122*\"nana\" + -0.116*\"mr\" + -0.110*\"30\" + -0.108*\"march\" + -0.102*\"russian\" + -0.100*\"source\" + 0.095*\"school\" + -0.092*\"adviser\"'),\n",
       " (3,\n",
       "  '0.217*\"clinton\" + -0.186*\"school\" + -0.176*\"student\" + 0.141*\"hillary\" + -0.121*\"county\" + -0.121*\"flynn\" + 0.110*\"sander\" + 0.098*\"debate\" + 0.097*\"woman\" + 0.091*\"nominee\"'),\n",
       " (4,\n",
       "  '0.200*\"email\" + -0.194*\"trump\" + 0.168*\"dnc\" + -0.142*\"flynn\" + 0.126*\"clinton\" + -0.112*\"cruz\" + 0.111*\"department\" + 0.110*\"rich\" + 0.102*\"wikileaks\" + 0.099*\"sander\"'),\n",
       " (5,\n",
       "  '-0.276*\"student\" + -0.160*\"conference\" + -0.160*\"school\" + -0.137*\"trump\" + 0.125*\"mccain\" + 0.124*\"obama\" + -0.105*\"flynn\" + -0.102*\"campus\" + -0.102*\"yearbook\" + 0.101*\"putin\"'),\n",
       " (6,\n",
       "  '0.349*\"conference\" + -0.193*\"flynn\" + 0.187*\"press\" + 0.171*\"mark\" + 0.166*\"sean\" + 0.166*\"levin\" + 0.166*\"hannity\" + 0.142*\"discussing\" + 0.135*\"iowa\" + 0.112*\"immigration\"')]"
      ]
     },
     "execution_count": 63,
     "metadata": {},
     "output_type": "execute_result"
    }
   ],
   "source": [
    "lsa_model.print_topics()"
   ]
  },
  {
   "cell_type": "markdown",
   "id": "2c486c48",
   "metadata": {},
   "source": [
    "# Creating our classification model"
   ]
  },
  {
   "cell_type": "code",
   "execution_count": 64,
   "id": "74429f60",
   "metadata": {},
   "outputs": [
    {
     "data": {
      "text/html": [
       "<div>\n",
       "<style scoped>\n",
       "    .dataframe tbody tr th:only-of-type {\n",
       "        vertical-align: middle;\n",
       "    }\n",
       "\n",
       "    .dataframe tbody tr th {\n",
       "        vertical-align: top;\n",
       "    }\n",
       "\n",
       "    .dataframe thead th {\n",
       "        text-align: right;\n",
       "    }\n",
       "</style>\n",
       "<table border=\"1\" class=\"dataframe\">\n",
       "  <thead>\n",
       "    <tr style=\"text-align: right;\">\n",
       "      <th></th>\n",
       "      <th>title</th>\n",
       "      <th>text</th>\n",
       "      <th>date</th>\n",
       "      <th>fake_or_factual</th>\n",
       "      <th>text_clean</th>\n",
       "      <th>vader_sentiment_score</th>\n",
       "      <th>vader_sentiment_label</th>\n",
       "    </tr>\n",
       "  </thead>\n",
       "  <tbody>\n",
       "    <tr>\n",
       "      <th>0</th>\n",
       "      <td>HOLLYWEIRD LIB SUSAN SARANDON Compares Muslim ...</td>\n",
       "      <td>There are two small problems with your analogy...</td>\n",
       "      <td>Dec 30, 2015</td>\n",
       "      <td>Fake News</td>\n",
       "      <td>[two, small, problem, analogy, susan, jesus, m...</td>\n",
       "      <td>-0.3660</td>\n",
       "      <td>Negative</td>\n",
       "    </tr>\n",
       "    <tr>\n",
       "      <th>1</th>\n",
       "      <td>Elijah Cummings Called Trump Out To His Face ...</td>\n",
       "      <td>Buried in Trump s bonkers interview with New Y...</td>\n",
       "      <td>April 6, 2017</td>\n",
       "      <td>Fake News</td>\n",
       "      <td>[buried, trump, bonkers, interview, new, york,...</td>\n",
       "      <td>-0.8197</td>\n",
       "      <td>Negative</td>\n",
       "    </tr>\n",
       "    <tr>\n",
       "      <th>2</th>\n",
       "      <td>Hillary Clinton Says Half Her Cabinet Will Be...</td>\n",
       "      <td>Women make up over 50 percent of this country,...</td>\n",
       "      <td>April 26, 2016</td>\n",
       "      <td>Fake News</td>\n",
       "      <td>[woman, make, 50, percent, country, grossly, u...</td>\n",
       "      <td>0.9779</td>\n",
       "      <td>Positive</td>\n",
       "    </tr>\n",
       "    <tr>\n",
       "      <th>3</th>\n",
       "      <td>Russian bombing of U.S.-backed forces being di...</td>\n",
       "      <td>WASHINGTON (Reuters) - U.S. Defense Secretary ...</td>\n",
       "      <td>September 18, 2017</td>\n",
       "      <td>Factual News</td>\n",
       "      <td>[u, defense, secretary, jim, mattis, said, mon...</td>\n",
       "      <td>-0.3400</td>\n",
       "      <td>Negative</td>\n",
       "    </tr>\n",
       "    <tr>\n",
       "      <th>4</th>\n",
       "      <td>Britain says window to restore Northern Irelan...</td>\n",
       "      <td>BELFAST (Reuters) - Northern Ireland s politic...</td>\n",
       "      <td>September 4, 2017</td>\n",
       "      <td>Factual News</td>\n",
       "      <td>[northern, ireland, political, party, rapidly,...</td>\n",
       "      <td>0.8590</td>\n",
       "      <td>Positive</td>\n",
       "    </tr>\n",
       "  </tbody>\n",
       "</table>\n",
       "</div>"
      ],
      "text/plain": [
       "                                               title  \\\n",
       "0  HOLLYWEIRD LIB SUSAN SARANDON Compares Muslim ...   \n",
       "1   Elijah Cummings Called Trump Out To His Face ...   \n",
       "2   Hillary Clinton Says Half Her Cabinet Will Be...   \n",
       "3  Russian bombing of U.S.-backed forces being di...   \n",
       "4  Britain says window to restore Northern Irelan...   \n",
       "\n",
       "                                                text                 date  \\\n",
       "0  There are two small problems with your analogy...         Dec 30, 2015   \n",
       "1  Buried in Trump s bonkers interview with New Y...        April 6, 2017   \n",
       "2  Women make up over 50 percent of this country,...       April 26, 2016   \n",
       "3  WASHINGTON (Reuters) - U.S. Defense Secretary ...  September 18, 2017    \n",
       "4  BELFAST (Reuters) - Northern Ireland s politic...   September 4, 2017    \n",
       "\n",
       "  fake_or_factual                                         text_clean  \\\n",
       "0       Fake News  [two, small, problem, analogy, susan, jesus, m...   \n",
       "1       Fake News  [buried, trump, bonkers, interview, new, york,...   \n",
       "2       Fake News  [woman, make, 50, percent, country, grossly, u...   \n",
       "3    Factual News  [u, defense, secretary, jim, mattis, said, mon...   \n",
       "4    Factual News  [northern, ireland, political, party, rapidly,...   \n",
       "\n",
       "   vader_sentiment_score vader_sentiment_label  \n",
       "0                -0.3660              Negative  \n",
       "1                -0.8197              Negative  \n",
       "2                 0.9779              Positive  \n",
       "3                -0.3400              Negative  \n",
       "4                 0.8590              Positive  "
      ]
     },
     "execution_count": 64,
     "metadata": {},
     "output_type": "execute_result"
    }
   ],
   "source": [
    "data.head()"
   ]
  },
  {
   "cell_type": "code",
   "execution_count": 69,
   "id": "445487dc",
   "metadata": {},
   "outputs": [],
   "source": [
    "X = [', '.join(map(str,l)) for l in data['text_clean']]"
   ]
  },
  {
   "cell_type": "code",
   "execution_count": 71,
   "id": "ee2cb726",
   "metadata": {},
   "outputs": [],
   "source": [
    "Y = data['fake_or_factual']"
   ]
  },
  {
   "cell_type": "code",
   "execution_count": 78,
   "id": "f5c237f1",
   "metadata": {},
   "outputs": [],
   "source": [
    "countvec = CountVectorizer()"
   ]
  },
  {
   "cell_type": "code",
   "execution_count": 79,
   "id": "f5c71d6e",
   "metadata": {},
   "outputs": [],
   "source": [
    "countvec_fit = countvec.fit_transform(X)"
   ]
  },
  {
   "cell_type": "code",
   "execution_count": 80,
   "id": "a5f09336",
   "metadata": {},
   "outputs": [],
   "source": [
    "bag_of_words = pd.DataFrame(countvec_fit.toarray(), columns=countvec.get_feature_names_out())"
   ]
  },
  {
   "cell_type": "code",
   "execution_count": 81,
   "id": "943c738a",
   "metadata": {},
   "outputs": [],
   "source": [
    "X_train, X_test, y_train, y_test = train_test_split(bag_of_words, Y, test_size=0.3)"
   ]
  },
  {
   "cell_type": "code",
   "execution_count": 82,
   "id": "9cdac8c9",
   "metadata": {},
   "outputs": [],
   "source": [
    "lr = LogisticRegression(random_state=0).fit(X_train, y_train)"
   ]
  },
  {
   "cell_type": "code",
   "execution_count": 83,
   "id": "d238525b",
   "metadata": {},
   "outputs": [],
   "source": [
    "y_pred_lr = lr.predict(X_test)"
   ]
  },
  {
   "cell_type": "code",
   "execution_count": 84,
   "id": "09e3cf87",
   "metadata": {},
   "outputs": [
    {
     "data": {
      "text/plain": [
       "0.8666666666666667"
      ]
     },
     "execution_count": 84,
     "metadata": {},
     "output_type": "execute_result"
    }
   ],
   "source": [
    "accuracy_score(y_pred_lr, y_test)"
   ]
  },
  {
   "cell_type": "code",
   "execution_count": 85,
   "id": "4773fc63",
   "metadata": {},
   "outputs": [
    {
     "name": "stdout",
     "output_type": "stream",
     "text": [
      "              precision    recall  f1-score   support\n",
      "\n",
      "Factual News       0.79      0.92      0.85        24\n",
      "   Fake News       0.94      0.83      0.88        36\n",
      "\n",
      "    accuracy                           0.87        60\n",
      "   macro avg       0.86      0.88      0.86        60\n",
      "weighted avg       0.88      0.87      0.87        60\n",
      "\n"
     ]
    }
   ],
   "source": [
    "print(classification_report(y_test, y_pred_lr))"
   ]
  },
  {
   "cell_type": "code",
   "execution_count": 87,
   "id": "449184c9",
   "metadata": {},
   "outputs": [],
   "source": [
    "svm = SGDClassifier().fit(X_train, y_train)"
   ]
  },
  {
   "cell_type": "code",
   "execution_count": 88,
   "id": "a1913749",
   "metadata": {},
   "outputs": [],
   "source": [
    "y_pred_svm = svm.predict(X_test)"
   ]
  },
  {
   "cell_type": "code",
   "execution_count": 89,
   "id": "2001699f",
   "metadata": {},
   "outputs": [
    {
     "data": {
      "text/plain": [
       "0.85"
      ]
     },
     "execution_count": 89,
     "metadata": {},
     "output_type": "execute_result"
    }
   ],
   "source": [
    "accuracy_score(y_pred_svm, y_test)"
   ]
  },
  {
   "cell_type": "code",
   "execution_count": 90,
   "id": "72b97af5",
   "metadata": {},
   "outputs": [
    {
     "name": "stdout",
     "output_type": "stream",
     "text": [
      "              precision    recall  f1-score   support\n",
      "\n",
      "Factual News       0.74      0.96      0.84        24\n",
      "   Fake News       0.97      0.78      0.86        36\n",
      "\n",
      "    accuracy                           0.85        60\n",
      "   macro avg       0.85      0.87      0.85        60\n",
      "weighted avg       0.88      0.85      0.85        60\n",
      "\n"
     ]
    }
   ],
   "source": [
    "print(classification_report(y_test, y_pred_svm))"
   ]
  }
 ],
 "metadata": {
  "kernelspec": {
   "display_name": "Python 3",
   "language": "python",
   "name": "python3"
  },
  "language_info": {
   "codemirror_mode": {
    "name": "ipython",
    "version": 3
   },
   "file_extension": ".py",
   "mimetype": "text/x-python",
   "name": "python",
   "nbconvert_exporter": "python",
   "pygments_lexer": "ipython3",
   "version": "3.12.10"
  }
 },
 "nbformat": 4,
 "nbformat_minor": 5
}
